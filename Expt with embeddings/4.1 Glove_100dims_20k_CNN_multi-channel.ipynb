{
 "cells": [
  {
   "cell_type": "markdown",
   "metadata": {},
   "source": [
    "# Refer /Keras /1. preProcess with keras"
   ]
  },
  {
   "cell_type": "code",
   "execution_count": 3,
   "metadata": {},
   "outputs": [
    {
     "data": {
      "text/plain": [
       "0"
      ]
     },
     "execution_count": 3,
     "metadata": {},
     "output_type": "execute_result"
    }
   ],
   "source": [
    "import os\n",
    "import gc\n",
    "gc.collect()\n",
    "#https://ahmedbesbes.com/overview-and-benchmark-of-traditional-and-deep-learning-models-in-text-classification.html\n",
    "#https://www.quora.com/What-is-the-relationship-between-timestep-and-number-hidden-unit-in-LSTM\n",
    "#https://machinelearningmastery.com/develop-n-gram-multichannel-convolutional-neural-network-sentiment-analysis/\n",
    "# https://machinelearningmastery.com/keras-functional-api-deep-learning/\n"
   ]
  },
  {
   "cell_type": "code",
   "execution_count": 44,
   "metadata": {},
   "outputs": [],
   "source": [
    "#https://medium.com/@jatinmandav3/opinion-mining-sometimes-known-as-sentiment-analysis-or-emotion-ai-refers-to-the-use-of-natural-874f369194c0\n",
    "'''\n",
    "CNN DOESBOT SUPOORT MASKING\n",
    "have used MASK = True in embedding layer\n",
    "preparing i/p for N.N (padding)\n",
    "Q) What impact does the type of padding have on the model performance for any task, example sentence classification?\n",
    "A) use a Masking input layer which will ignore padded values. This means that padded inputs have no impact on learning.\n",
    "CNN dont support it ; Emb. layer and LSTM support masking\n",
    "if CNNs try learning the padded data directly\n",
    "Masking layer ignore padding data\n",
    "https://stackoverflow.com/questions/49961683/how-to-use-the-result-of-embedding-with-mask-zero-true-in-keras\n",
    "\n",
    "'''\n",
    "import os\n",
    "from tqdm import tqdm\n",
    "import pandas as pd \n",
    "import numpy as np\n",
    "\n",
    "from keras.models import Sequential\n",
    "from keras.layers import Dense, GRU,LSTM, Embedding,Flatten, Dropout,CuDNNGRU,Bidirectional\n",
    "from keras.optimizers import Adam\n",
    "from keras.preprocessing.text import Tokenizer\n",
    "from keras.preprocessing import sequence\n",
    "\n",
    "from sklearn.model_selection import train_test_split\n",
    "\n",
    "import matplotlib.pyplot as plt\n",
    "import seaborn as sns\n",
    "from wordcloud import WordCloud\n",
    "%matplotlib inline\n",
    "\n",
    "import pickle\n",
    "import h5py\n",
    "\n",
    "from keras.callbacks import EarlyStopping, ModelCheckpoint\n",
    "\n",
    "from tensorflow.keras.callbacks import TensorBoard\n",
    "\n",
    "\n",
    "PROJ_NAME= \"4.1  Glove_pretrained_100dims_20k_CNN_multi-channel\"\n",
    "\n",
    "MODEL_FILEPATH = f'model_tokenizers_weights_and_json/{PROJ_NAME}_best_model.json'#hdf5\n",
    "WEIGHT_FILEPATH = f'model_tokenizers_weights_and_json/{PROJ_NAME}_best_weights.h5'\n",
    "IMAGE_PATH = f'model_images/{PROJ_NAME}.png'\n",
    "TOKENIZER_FILEPATH = f'model_tokenizers_weights_and_json/{PROJ_NAME}_tokenizer_instance.pickle'\n",
    "\n",
    "tensorboard = TensorBoard(log_dir=f'logs/{PROJ_NAME}/')"
   ]
  },
  {
   "cell_type": "markdown",
   "metadata": {},
   "source": [
    "# making it reproducable"
   ]
  },
  {
   "cell_type": "code",
   "execution_count": 5,
   "metadata": {},
   "outputs": [],
   "source": [
    "seed = 7\n",
    "\n",
    "np.random.seed(seed)\n",
    "from tensorflow import set_random_seed\n",
    "set_random_seed(seed)"
   ]
  },
  {
   "cell_type": "code",
   "execution_count": 6,
   "metadata": {},
   "outputs": [],
   "source": [
    "INPUT_TEXT_LENGTH = 294 # from previous notebook\n",
    "VOCAB_SIZE = 20000      # vocab size needs to be taken care off"
   ]
  },
  {
   "cell_type": "code",
   "execution_count": 7,
   "metadata": {},
   "outputs": [],
   "source": [
    "df_preprocessed = pd.read_pickle(\"./pickles/V1_preProcessed.pkl\")"
   ]
  },
  {
   "cell_type": "markdown",
   "metadata": {},
   "source": [
    "# check if 1st 50k are shuffuled"
   ]
  },
  {
   "cell_type": "code",
   "execution_count": 8,
   "metadata": {},
   "outputs": [
    {
     "data": {
      "text/html": [
       "<div>\n",
       "<style scoped>\n",
       "    .dataframe tbody tr th:only-of-type {\n",
       "        vertical-align: middle;\n",
       "    }\n",
       "\n",
       "    .dataframe tbody tr th {\n",
       "        vertical-align: top;\n",
       "    }\n",
       "\n",
       "    .dataframe thead th {\n",
       "        text-align: right;\n",
       "    }\n",
       "</style>\n",
       "<table border=\"1\" class=\"dataframe\">\n",
       "  <thead>\n",
       "    <tr style=\"text-align: right;\">\n",
       "      <th></th>\n",
       "      <th>review</th>\n",
       "      <th>sentiment</th>\n",
       "      <th>word_count</th>\n",
       "    </tr>\n",
       "  </thead>\n",
       "  <tbody>\n",
       "    <tr>\n",
       "      <th>49996</th>\n",
       "      <td>movie nothing like book think writer screenpla...</td>\n",
       "      <td>0.0</td>\n",
       "      <td>55</td>\n",
       "    </tr>\n",
       "    <tr>\n",
       "      <th>49997</th>\n",
       "      <td>first watched flatliners amaze necessary featu...</td>\n",
       "      <td>1.0</td>\n",
       "      <td>89</td>\n",
       "    </tr>\n",
       "    <tr>\n",
       "      <th>49998</th>\n",
       "      <td>see movie find hard understand many people see...</td>\n",
       "      <td>1.0</td>\n",
       "      <td>87</td>\n",
       "    </tr>\n",
       "    <tr>\n",
       "      <th>49999</th>\n",
       "      <td>work class romantic drama director martin ritt...</td>\n",
       "      <td>1.0</td>\n",
       "      <td>92</td>\n",
       "    </tr>\n",
       "    <tr>\n",
       "      <th>50000</th>\n",
       "      <td>admit great majority film release say dozen ma...</td>\n",
       "      <td>2.0</td>\n",
       "      <td>73</td>\n",
       "    </tr>\n",
       "    <tr>\n",
       "      <th>50001</th>\n",
       "      <td>take low budget inexperienced actor double pro...</td>\n",
       "      <td>2.0</td>\n",
       "      <td>88</td>\n",
       "    </tr>\n",
       "  </tbody>\n",
       "</table>\n",
       "</div>"
      ],
      "text/plain": [
       "                                                  review  sentiment  \\\n",
       "49996  movie nothing like book think writer screenpla...        0.0   \n",
       "49997  first watched flatliners amaze necessary featu...        1.0   \n",
       "49998  see movie find hard understand many people see...        1.0   \n",
       "49999  work class romantic drama director martin ritt...        1.0   \n",
       "50000  admit great majority film release say dozen ma...        2.0   \n",
       "50001  take low budget inexperienced actor double pro...        2.0   \n",
       "\n",
       "       word_count  \n",
       "49996          55  \n",
       "49997          89  \n",
       "49998          87  \n",
       "49999          92  \n",
       "50000          73  \n",
       "50001          88  "
      ]
     },
     "execution_count": 8,
     "metadata": {},
     "output_type": "execute_result"
    }
   ],
   "source": [
    "df_preprocessed[49996:50002]"
   ]
  },
  {
   "cell_type": "markdown",
   "metadata": {},
   "source": [
    "# consider only 1st 50 for train and test split it from rest¶"
   ]
  },
  {
   "cell_type": "code",
   "execution_count": 9,
   "metadata": {},
   "outputs": [],
   "source": [
    "df = pd.DataFrame()\n",
    "df = df_preprocessed[0:49999]"
   ]
  },
  {
   "cell_type": "code",
   "execution_count": 10,
   "metadata": {},
   "outputs": [
    {
     "data": {
      "text/plain": [
       "0.0    25000\n",
       "1.0    24999\n",
       "Name: sentiment, dtype: int64"
      ]
     },
     "execution_count": 10,
     "metadata": {},
     "output_type": "execute_result"
    }
   ],
   "source": [
    "df['sentiment'].value_counts()"
   ]
  },
  {
   "cell_type": "markdown",
   "metadata": {},
   "source": [
    "# Vectorising usin Keras\n",
    "- Setting integer value to a string token"
   ]
  },
  {
   "cell_type": "code",
   "execution_count": 11,
   "metadata": {},
   "outputs": [
    {
     "name": "stdout",
     "output_type": "stream",
     "text": [
      "Wall time: 3.98 s\n"
     ]
    }
   ],
   "source": [
    "%%time \n",
    "# create the tokenizer\n",
    "tokenizer =Tokenizer(num_words=VOCAB_SIZE)\n",
    "# fit the tokenizer on the documents\n",
    "tokenizer.fit_on_texts(df[\"review\"])"
   ]
  },
  {
   "cell_type": "code",
   "execution_count": 12,
   "metadata": {},
   "outputs": [],
   "source": [
    "total_vocab = tokenizer.word_index\n",
    "#print(total_vocab)"
   ]
  },
  {
   "cell_type": "markdown",
   "metadata": {},
   "source": [
    "# Setting up vocab size for GLOVE handling"
   ]
  },
  {
   "cell_type": "code",
   "execution_count": 13,
   "metadata": {},
   "outputs": [
    {
     "data": {
      "text/plain": [
       "dict"
      ]
     },
     "execution_count": 13,
     "metadata": {},
     "output_type": "execute_result"
    }
   ],
   "source": [
    "'''\n",
    "SELECT TOP 20K dict\n",
    "'''\n",
    "from itertools import islice\n",
    "\n",
    "def take(n, iterable):\n",
    "    \"Return first n items of the iterable as a list\"\n",
    "    return dict(islice(iterable, n))\n",
    "\n",
    "vocab_20k = take(VOCAB_SIZE, total_vocab.items())\n",
    "\n",
    "\n",
    "type(vocab_20k)"
   ]
  },
  {
   "cell_type": "code",
   "execution_count": 14,
   "metadata": {},
   "outputs": [
    {
     "data": {
      "text/plain": [
       "20000"
      ]
     },
     "execution_count": 14,
     "metadata": {},
     "output_type": "execute_result"
    }
   ],
   "source": [
    "len(vocab_20k)"
   ]
  },
  {
   "cell_type": "markdown",
   "metadata": {},
   "source": [
    "# Converting text data to abv to integer values"
   ]
  },
  {
   "cell_type": "code",
   "execution_count": 15,
   "metadata": {
    "scrolled": true
   },
   "outputs": [
    {
     "name": "stdout",
     "output_type": "stream",
     "text": [
      "Wall time: 3.04 s\n"
     ]
    }
   ],
   "source": [
    "%%time\n",
    "seq = tokenizer.texts_to_sequences(df[\"review\"])"
   ]
  },
  {
   "cell_type": "markdown",
   "metadata": {},
   "source": [
    "# Check for values"
   ]
  },
  {
   "cell_type": "code",
   "execution_count": 16,
   "metadata": {},
   "outputs": [
    {
     "data": {
      "text/plain": [
       "'movie ups downs good stuff movie much outweighs bad good movie indeed sometimes dialogue sound light one noticed way set light amateur act good highly original storyline intense atmosphere gore factor high effect do supremely definitely worth watch maybe even must see horror gore fan'"
      ]
     },
     "execution_count": 16,
     "metadata": {},
     "output_type": "execute_result"
    }
   ],
   "source": [
    " df['review'][155]"
   ]
  },
  {
   "cell_type": "code",
   "execution_count": 17,
   "metadata": {},
   "outputs": [
    {
     "data": {
      "text/plain": [
       "array([   1, 1516,    8,  392,    1,   24,   17,    8,    1,  706,  414,\n",
       "        294,  186,  313,    3, 4703,   34,   89,  313, 1865,   36,    8,\n",
       "        423,  117,  623, 1311,  694,  461, 1567,  168,  139,  125, 7979,\n",
       "        312,  183,   14,  179,   15,  111,    6,   90,  461,  106])"
      ]
     },
     "execution_count": 17,
     "metadata": {},
     "output_type": "execute_result"
    }
   ],
   "source": [
    "np.array(seq[155])"
   ]
  },
  {
   "cell_type": "code",
   "execution_count": 18,
   "metadata": {},
   "outputs": [
    {
     "name": "stdout",
     "output_type": "stream",
     "text": [
      "45\n",
      "43\n"
     ]
    }
   ],
   "source": [
    "'''\n",
    "WE CAN SEE THE DIFFERENCE 10 , BCOZ OTHER VALUES ARE GRATER THEN VOCAB SIZE 20000 ; SO ITS NOT CONSIDERED\n",
    "'''\n",
    "print(df['word_count'][155])\n",
    "print(len(np.array(seq[155])))"
   ]
  },
  {
   "cell_type": "code",
   "execution_count": 19,
   "metadata": {},
   "outputs": [
    {
     "name": "stdout",
     "output_type": "stream",
     "text": [
      " Actual VOCAB_SIZE deined:  20000\n",
      " Actual tokens created:  91671\n"
     ]
    }
   ],
   "source": [
    "print(\" Actual VOCAB_SIZE deined: \",VOCAB_SIZE)\n",
    "print(\" Actual tokens created: \",len(tokenizer.word_index))# IF WE WANT TO CONSIDER EVERY TEXT IN VOCAB PASS THIS"
   ]
  },
  {
   "cell_type": "markdown",
   "metadata": {},
   "source": [
    "# Deciding Vocabulary for EMB. matrix\n",
    "* we can load either 100dims, 300dims * VOCAB_SIZE_new"
   ]
  },
  {
   "cell_type": "markdown",
   "metadata": {},
   "source": [
    "# Importing pre trained Glove\n",
    "* https://blog.keras.io/using-pre-trained-word-embeddings-in-a-keras-model.html "
   ]
  },
  {
   "cell_type": "code",
   "execution_count": 20,
   "metadata": {},
   "outputs": [
    {
     "name": "stdout",
     "output_type": "stream",
     "text": [
      "Loaded 400000 word vectors.\n",
      "Wall time: 10.6 s\n"
     ]
    }
   ],
   "source": [
    "%%time\n",
    "Glove_Embedding = {}#dict()\n",
    "                                                                #100d\n",
    "f = open('D:/dataset/Embedding/Glove/glove.6B.100d.txt', encoding=\"utf8\")\n",
    "\n",
    "for line in f:\n",
    "\tvalues = line.split() # split by lines\n",
    "\tword = values[0]# get 1st word in the line i.e the \"word\" itself\n",
    "\tcoefs = np.asarray(values[1:], dtype='float32') # the preceding vector is the vector itself\n",
    "\tGlove_Embedding[word] = coefs# its a dict of word(key) and vector(value)\n",
    "f.close()\n",
    "\n",
    "print('Loaded %s word vectors.' % len(Glove_Embedding))"
   ]
  },
  {
   "cell_type": "markdown",
   "metadata": {},
   "source": [
    "# Pre trained Glove, used as initilzation for our task\n",
    "* we create 2D array of size (VOCAB_SIZE * 100) "
   ]
  },
  {
   "cell_type": "code",
   "execution_count": 21,
   "metadata": {},
   "outputs": [
    {
     "name": "stderr",
     "output_type": "stream",
     "text": [
      "C:\\Users\\DBCE\\Anaconda3\\envs\\tf_gpu\\lib\\site-packages\\ipykernel_launcher.py:12: FutureWarning: elementwise comparison failed; returning scalar instead, but in the future will perform elementwise comparison\n",
      "  if sys.path[0] == '':\n"
     ]
    }
   ],
   "source": [
    "#so we have to create 2d array\n",
    "# 50 since we have loaded 100 embd layer Glove matrix\n",
    "      #Setting up vocab size for GLOVE handling\n",
    "embedding_matrix = np.zeros((VOCAB_SIZE+1,100))\n",
    "##words_not_found = []   # words not found in Glove emb. w.r.t our data corpous\n",
    "import collections\n",
    "words_not_found = collections.defaultdict(list)\n",
    "\n",
    "for word, i in vocab_20k.items():\n",
    "    \n",
    "    glove_vector_reprsentation = Glove_Embedding.get(word,\"NULL\")\n",
    "    if glove_vector_reprsentation != 'NULL':\n",
    "        embedding_matrix[i] = glove_vector_reprsentation\n",
    "    else:\n",
    "        ##words_not_found.append(word)\n",
    "        words_not_found[word].append(i)     "
   ]
  },
  {
   "cell_type": "code",
   "execution_count": 22,
   "metadata": {},
   "outputs": [
    {
     "data": {
      "text/plain": [
       "defaultdict(list,\n",
       "            {'illiant': [426],\n",
       "             'clichã': [561],\n",
       "             'eak': [808],\n",
       "             'eaking': [1359],\n",
       "             'utal': [1526],\n",
       "             'inging': [1745],\n",
       "             'illiantly': [1850],\n",
       "             'eath': [2396],\n",
       "             'eathtaking': [2674],\n",
       "             'iefly': [2812],\n",
       "             'fiancã': [2838],\n",
       "             'appal': [2913],\n",
       "             'idge': [2926],\n",
       "             'illiance': [3050],\n",
       "             'oadcast': [3243],\n",
       "             'ains': [3339],\n",
       "             'utally': [3692],\n",
       "             'convolute': [3835],\n",
       "             'engross': [4204],\n",
       "             'utality': [4548],\n",
       "             'derange': [4600],\n",
       "             'uptly': [5059],\n",
       "             'itâ': [5075],\n",
       "             'enthral': [5222],\n",
       "             'eakdown': [5340],\n",
       "             'ooding': [5401],\n",
       "             'ainless': [5478],\n",
       "             'overbear': [5524],\n",
       "             'eathing': [5673],\n",
       "             'ated': [5744],\n",
       "             'excruciate': [5936],\n",
       "             'stylize': [6055],\n",
       "             'iâ': [6192],\n",
       "             'chupaca': [6414],\n",
       "             'ities': [6450],\n",
       "             'eathe': [6697],\n",
       "             'gã': [6800],\n",
       "             'impend': [6802],\n",
       "             'nauseate': [6803],\n",
       "             'imho': [6816],\n",
       "             'eakfast': [7176],\n",
       "             'sã': [7352],\n",
       "             'dã': [7468],\n",
       "             'bandw': [7514],\n",
       "             'unette': [7525],\n",
       "             'anch': [7676],\n",
       "             'eakthrough': [7749],\n",
       "             'mã': [8043],\n",
       "             'forebode': [8109],\n",
       "             'gypo': [8202],\n",
       "             'josã': [8404],\n",
       "             'exhilarate': [8562],\n",
       "             'cafã': [8566],\n",
       "             'lã': [8773],\n",
       "             'cã': [9039],\n",
       "             'ained': [9117],\n",
       "             'matinã': [9273],\n",
       "             'feinstone': [9297],\n",
       "             'protã': [9351],\n",
       "             'ramã³n': [9470],\n",
       "             'donâ': [9545],\n",
       "             'rã': [9762],\n",
       "             'eezy': [9803],\n",
       "             'sandm': [9900],\n",
       "             'uary': [9916],\n",
       "             'naã': [9940],\n",
       "             'eathless': [9961],\n",
       "             'hynkel': [10010],\n",
       "             'jã': [10022],\n",
       "             'assort': [10032],\n",
       "             'underdevelop': [10056],\n",
       "             'womanize': [10070],\n",
       "             'zelah': [10150],\n",
       "             'ainwashed': [10165],\n",
       "             'eeding': [10275],\n",
       "             'cheezy': [10277],\n",
       "             'pã': [10495],\n",
       "             'othel': [10502],\n",
       "             'deprave': [10519],\n",
       "             'owsing': [10570],\n",
       "             'ossessione': [10625],\n",
       "             'spellbind': [10627],\n",
       "             'disgruntle': [10700],\n",
       "             'carface': [10731],\n",
       "             'thatâ': [10870],\n",
       "             'ightly': [10879],\n",
       "             'franã': [10890],\n",
       "             'ighter': [11011],\n",
       "             'starewicz': [11056],\n",
       "             'icated': [11182],\n",
       "             'nazarin': [11300],\n",
       "             'domineer': [11404],\n",
       "             'iskie': [11416],\n",
       "             'thieve': [11514],\n",
       "             'andrã': [11659],\n",
       "             'icks': [11677],\n",
       "             'buã': [11712],\n",
       "             'aande': [11802],\n",
       "             'bolkan': [11830],\n",
       "             'avely': [11899],\n",
       "             'risquã': [11921],\n",
       "             'eathtakingly': [11965],\n",
       "             'avado': [12064],\n",
       "             'etooth': [12101],\n",
       "             'trelkovsky': [12109],\n",
       "             'renã': [12140],\n",
       "             'paperhouse': [12209],\n",
       "             'oader': [12216],\n",
       "             'bemuse': [12253],\n",
       "             'ightest': [12280],\n",
       "             'canâ': [12295],\n",
       "             'sjã': [12312],\n",
       "             'mesmerise': [12318],\n",
       "             'avura': [12380],\n",
       "             'idges': [12397],\n",
       "             'remem': [12462],\n",
       "             'slausen': [12526],\n",
       "             'hackenstein': [12543],\n",
       "             'sheeta': [12587],\n",
       "             'ushes': [12603],\n",
       "             'pazu': [12619],\n",
       "             'oadcasting': [12752],\n",
       "             'cassavettes': [12786],\n",
       "             'eathes': [12807],\n",
       "             'shepitko': [13057],\n",
       "             'mraovich': [13080],\n",
       "             'brinke': [13137],\n",
       "             'raisuli': [13222],\n",
       "             'polarisdib': [13247],\n",
       "             'mordrid': [13259],\n",
       "             'astã': [13267],\n",
       "             'â½': [13306],\n",
       "             'asive': [13311],\n",
       "             'strã': [13314],\n",
       "             'hahaha': [13338],\n",
       "             'cooky': [13357],\n",
       "             'azen': [13359],\n",
       "             'bã': [13380],\n",
       "             'buttgereit': [13400],\n",
       "             'conrack': [13433],\n",
       "             'ainer': [13469],\n",
       "             'dandd': [13541],\n",
       "             'gorehounds': [13644],\n",
       "             'darkwolf': [13728],\n",
       "             'todesking': [13729],\n",
       "             'oadly': [13732],\n",
       "             'trivialboring': [13770],\n",
       "             'goony': [13823],\n",
       "             'eakout': [13917],\n",
       "             'ielle': [13932],\n",
       "             'fingersmith': [13955],\n",
       "             'idged': [13963],\n",
       "             'dilapidate': [14017],\n",
       "             'anches': [14022],\n",
       "             'xica': [14075],\n",
       "             'sakall': [14147],\n",
       "             'amenã': [14174],\n",
       "             'smatter': [14239],\n",
       "             'dialouge': [14267],\n",
       "             'utish': [14307],\n",
       "             'dominoe': [14316],\n",
       "             'eakup': [14351],\n",
       "             'afroreggae': [14373],\n",
       "             'sotnikov': [14403],\n",
       "             'grisby': [14409],\n",
       "             'falon': [14425],\n",
       "             'mukhsin': [14426],\n",
       "             'oadcasts': [14463],\n",
       "             'easted': [14516],\n",
       "             'imming': [14547],\n",
       "             'dumbfound': [14558],\n",
       "             'kã': [14628],\n",
       "             'pianiste': [14636],\n",
       "             'filmâ': [14658],\n",
       "             'demonicus': [14663],\n",
       "             'toxie': [14812],\n",
       "             'shax': [14818],\n",
       "             'anded': [14980],\n",
       "             'cringeworthy': [14986],\n",
       "             'grunnick': [14996],\n",
       "             'carrã': [15039],\n",
       "             'enamor': [15071],\n",
       "             'matuschek': [15133],\n",
       "             'naivetã': [15145],\n",
       "             'marylee': [15147],\n",
       "             'syberberg': [15169],\n",
       "             'aindead': [15193],\n",
       "             'evity': [15304],\n",
       "             'iella': [15337],\n",
       "             'gialli': [15338],\n",
       "             'noroi': [15387],\n",
       "             'pokã': [15388],\n",
       "             'gymkata': [15408],\n",
       "             'itish': [15425],\n",
       "             'reccomend': [15491],\n",
       "             'hundstage': [15517],\n",
       "             'stirba': [15528],\n",
       "             'louque': [15551],\n",
       "             'gammera': [15564],\n",
       "             'igade': [15582],\n",
       "             'iele': [15600],\n",
       "             'dric': [15621],\n",
       "             'eathed': [15692],\n",
       "             'rollick': [15731],\n",
       "             'jox': [15791],\n",
       "             'soultaker': [15814],\n",
       "             'igida': [15816],\n",
       "             'malã': [15849],\n",
       "             'thalluri': [15861],\n",
       "             'dinocroc': [15896],\n",
       "             'everyones': [15908],\n",
       "             'completist': [15933],\n",
       "             'darvi': [15972],\n",
       "             'ahimi': [15978],\n",
       "             'krabbã': [15984],\n",
       "             'gedren': [16004],\n",
       "             'doesnâ': [16058],\n",
       "             'teau': [16084],\n",
       "             'stylise': [16121],\n",
       "             'cusak': [16152],\n",
       "             'iefcase': [16227],\n",
       "             'pakeezah': [16238],\n",
       "             'otherhood': [16253],\n",
       "             'gojoe': [16259],\n",
       "             'fique': [16292],\n",
       "             'burakov': [16300],\n",
       "             'hitokiri': [16302],\n",
       "             'dishevel': [16343],\n",
       "             'ushed': [16346],\n",
       "             'frã': [16361],\n",
       "             'landh': [16370],\n",
       "             'spoorloos': [16373],\n",
       "             'recomend': [16388],\n",
       "             'galaxina': [16421],\n",
       "             'beleaguer': [16423],\n",
       "             'railly': [16433],\n",
       "             'dumbland': [16448],\n",
       "             'fanda': [16458],\n",
       "             'inki': [16460],\n",
       "             'digicorp': [16461],\n",
       "             'ahams': [16464],\n",
       "             'holotik': [16469],\n",
       "             'stã': [16515],\n",
       "             'ff7': [16556],\n",
       "             'wellâ': [16586],\n",
       "             'infatuate': [16601],\n",
       "             'volckman': [16606],\n",
       "             'bullsh': [16626],\n",
       "             'eadth': [16657],\n",
       "             'doodlebops': [16679],\n",
       "             'hoechlin': [16685],\n",
       "             'ightness': [16754],\n",
       "             'heero': [16759],\n",
       "             'divorcã': [16825],\n",
       "             'burgade': [16842],\n",
       "             'whop': [16843],\n",
       "             'marsillach': [16889],\n",
       "             'moocow': [16911],\n",
       "             'sybok': [16926],\n",
       "             'sasori': [16938],\n",
       "             'nubi': [16939],\n",
       "             'carnã': [16998],\n",
       "             'drek': [17015],\n",
       "             'blankfield': [17070],\n",
       "             'definetly': [17072],\n",
       "             'wannabee': [17079],\n",
       "             'unisol': [17113],\n",
       "             'sylia': [17193],\n",
       "             'gormless': [17211],\n",
       "             'babban': [17288],\n",
       "             'collora': [17307],\n",
       "             'paxinou': [17314],\n",
       "             'eeds': [17335],\n",
       "             'radzoff': [17362],\n",
       "             'everytown': [17434],\n",
       "             'orked': [17440],\n",
       "             'constipate': [17443],\n",
       "             'danglard': [17456],\n",
       "             'stripperella': [17464],\n",
       "             'elinore': [17470],\n",
       "             'throe': [17505],\n",
       "             'crappiness': [17532],\n",
       "             'acelet': [17537],\n",
       "             'ffvii': [17550],\n",
       "             'hã': [17561],\n",
       "             'cinã': [17589],\n",
       "             'soutendijk': [17597],\n",
       "             'youâ': [17600],\n",
       "             'otherly': [17601],\n",
       "             'eakneck': [17622],\n",
       "             'feck': [17724],\n",
       "             'directer': [17725],\n",
       "             'akes': [17754],\n",
       "             'preconceive': [17784],\n",
       "             'cking': [17792],\n",
       "             'goosebump': [17794],\n",
       "             'risques': [17798],\n",
       "             'crapfest': [17866],\n",
       "             'ations': [17880],\n",
       "             'patroni': [17911],\n",
       "             'movieâ': [17913],\n",
       "             'iskly': [17946],\n",
       "             'putain': [17995],\n",
       "             'thereâ': [17996],\n",
       "             'eakingly': [17998],\n",
       "             'dissatisfy': [18023],\n",
       "             'rotj': [18025],\n",
       "             'oaden': [18032],\n",
       "             'sinhue': [18057],\n",
       "             'uzumakis': [18058],\n",
       "             'videostore': [18094],\n",
       "             'nunsploitation': [18131],\n",
       "             'uised': [18135],\n",
       "             'agging': [18138],\n",
       "             'grã': [18180],\n",
       "             'himâ': [18209],\n",
       "             'sg1': [18214],\n",
       "             'ication': [18218],\n",
       "             'nekromantik': [18227],\n",
       "             'mundae': [18277],\n",
       "             'servillo': [18288],\n",
       "             'disenchant': [18325],\n",
       "             'rossitto': [18366],\n",
       "             'monetero': [18395],\n",
       "             'equili': [18476],\n",
       "             'cheerlead': [18504],\n",
       "             'eburne': [18507],\n",
       "             'brontã': [18518],\n",
       "             'bourvil': [18547],\n",
       "             'dekalog': [18564],\n",
       "             'nightbeast': [18568],\n",
       "             'oater': [18570],\n",
       "             'ainwashing': [18580],\n",
       "             'firode': [18606],\n",
       "             'konkana': [18623],\n",
       "             'lanisha': [18632],\n",
       "             'hillarious': [18640],\n",
       "             'brideless': [18644],\n",
       "             'eviated': [18738],\n",
       "             'ainy': [18745],\n",
       "             'filmaking': [18788],\n",
       "             'lumiã': [18832],\n",
       "             'daninsky': [18873],\n",
       "             'rewatched': [18904],\n",
       "             'amã': [18951],\n",
       "             'ighten': [18976],\n",
       "             'wirey': [18982],\n",
       "             'colagrande': [19039],\n",
       "             'didnâ': [19197],\n",
       "             'coccio': [19202],\n",
       "             'danelia': [19258],\n",
       "             'uises': [19272],\n",
       "             'clã': [19281],\n",
       "             'indahouse': [19286],\n",
       "             'volontã': [19297],\n",
       "             'eakable': [19321],\n",
       "             'atoz': [19329],\n",
       "             'ropey': [19339],\n",
       "             'stargher': [19345],\n",
       "             'kabei': [19353],\n",
       "             'unscary': [19356],\n",
       "             'fritton': [19357],\n",
       "             'shtrafbat': [19372],\n",
       "             'ogue': [19389],\n",
       "             'yelnats': [19409],\n",
       "             'andishing': [19412],\n",
       "             'iated': [19436],\n",
       "             'venantini': [19460],\n",
       "             'snivel': [19463],\n",
       "             'cassinelli': [19483],\n",
       "             'puckoon': [19503],\n",
       "             'premeditate': [19506],\n",
       "             'ownstone': [19528],\n",
       "             'stupefy': [19565],\n",
       "             'scintillate': [19603],\n",
       "             'fartsy': [19624],\n",
       "             'corsaut': [19668],\n",
       "             'crappiest': [19678],\n",
       "             'acket': [19687],\n",
       "             'lassander': [19711],\n",
       "             'scuddamore': [19714],\n",
       "             'ancy': [19717],\n",
       "             'coulardeau': [19720],\n",
       "             'ohwon': [19727],\n",
       "             'disaffect': [19818],\n",
       "             'samojlova': [19901],\n",
       "             'erendira': [19919],\n",
       "             'nsna': [19945],\n",
       "             'vã': [19951],\n",
       "             'guetary': [19954],\n",
       "             'sucky': [19956],\n",
       "             'leskin': [19965],\n",
       "             'riget': [19975],\n",
       "             'mcdoakes': [19994]})"
      ]
     },
     "execution_count": 22,
     "metadata": {},
     "output_type": "execute_result"
    }
   ],
   "source": [
    "words_not_found  #words not found in Glove embedding; CAN USE WORDCLOUD"
   ]
  },
  {
   "cell_type": "code",
   "execution_count": 23,
   "metadata": {},
   "outputs": [
    {
     "name": "stdout",
     "output_type": "stream",
     "text": [
      "394\n"
     ]
    }
   ],
   "source": [
    "print(len(words_not_found))"
   ]
  },
  {
   "cell_type": "code",
   "execution_count": 24,
   "metadata": {},
   "outputs": [
    {
     "data": {
      "text/plain": [
       "(20001, 100)"
      ]
     },
     "execution_count": 24,
     "metadata": {},
     "output_type": "execute_result"
    }
   ],
   "source": [
    "embedding_matrix.shape # Embedding layer matrix"
   ]
  },
  {
   "cell_type": "markdown",
   "metadata": {},
   "source": [
    "# Padding and Truncating Data\n",
    "* To feed it to N.N, inputs to have the same length\n",
    " - Either we ensure that all sequences in the entire data-set have the same length\n",
    " - Or Entier batch should be of same length\n",
    "* Going about choosing ampunt to pad\n",
    " - going with longest seq, would be just waste of memory for texr whose length is small\n",
    " - going with smalles seq , would be just ignoring other imp values \n",
    " - so we go optimal\n"
   ]
  },
  {
   "cell_type": "code",
   "execution_count": 25,
   "metadata": {},
   "outputs": [
    {
     "name": "stdout",
     "output_type": "stream",
     "text": [
      "[    8  1337    13    25   103  1709    14    92     1  3217 12926   106\n",
      "    14   199   335     1    52   294  3589  2928   240    14   289   744\n",
      "   199   335     1    52   294     1   110    32  6941   151   396    76\n",
      "    25   249   224   148   124    24  2090  2222   152   494   585    81\n",
      "     2    92    95  1189   879   157   131   195   940    92    59    35\n",
      "   186   340  4598  1407   322    72   157   346   232   732   229   158\n",
      "    88  1401    81 11214  2969   373   246    21     2  1419    28   336\n",
      "     9    91  1385   128    92   184  2969   543   100  9786  3569   903\n",
      "  6848   577   244    28     9    32  1435    32     1   349  5264  2426\n",
      "  1293   147  1410  2506  2792   515    92    32 12926   106   148   444\n",
      "   182  1368    25     2  1934   384   232  1865   909   508  1979 14507\n",
      "  2608    55  1443   603   232  3031   199   335  7292]\n"
     ]
    }
   ],
   "source": [
    "'''\n",
    "All that the Embedding layer does is to map the integer inputs to the vectors found at the corresponding index in the \n",
    "embedding matrix, i.e. the sequence [1, 2] would be converted to [embeddings[1], embeddings[2]]\n",
    "'''\n",
    "print(np.array(seq[506]))"
   ]
  },
  {
   "cell_type": "code",
   "execution_count": 26,
   "metadata": {},
   "outputs": [
    {
     "data": {
      "text/plain": [
       "14507"
      ]
     },
     "execution_count": 26,
     "metadata": {},
     "output_type": "execute_result"
    }
   ],
   "source": [
    "np.max(np.array(seq[506]))"
   ]
  },
  {
   "cell_type": "markdown",
   "metadata": {},
   "source": [
    "# Padding and trucating here"
   ]
  },
  {
   "cell_type": "code",
   "execution_count": 27,
   "metadata": {},
   "outputs": [],
   "source": [
    "imdb_data_pad = sequence.pad_sequences(seq , maxlen=INPUT_TEXT_LENGTH,padding='pre', truncating='pre')"
   ]
  },
  {
   "cell_type": "code",
   "execution_count": 28,
   "metadata": {},
   "outputs": [
    {
     "data": {
      "text/plain": [
       "(49999, 294)"
      ]
     },
     "execution_count": 28,
     "metadata": {},
     "output_type": "execute_result"
    }
   ],
   "source": [
    "imdb_data_pad.shape\n",
    "# 2k review\n",
    "# and 695 fixed I/P shape"
   ]
  },
  {
   "cell_type": "code",
   "execution_count": 29,
   "metadata": {},
   "outputs": [
    {
     "data": {
      "text/plain": [
       "list"
      ]
     },
     "execution_count": 29,
     "metadata": {},
     "output_type": "execute_result"
    }
   ],
   "source": [
    "#checking\n",
    "#imdb_data_pad[4]\n",
    "type(seq)"
   ]
  },
  {
   "cell_type": "code",
   "execution_count": 30,
   "metadata": {},
   "outputs": [
    {
     "data": {
      "text/plain": [
       "<keras_preprocessing.text.Tokenizer at 0x1addaf88128>"
      ]
     },
     "execution_count": 30,
     "metadata": {},
     "output_type": "execute_result"
    }
   ],
   "source": [
    "tokenizer"
   ]
  },
  {
   "cell_type": "markdown",
   "metadata": {},
   "source": [
    "# Tokenizer Inverse Map"
   ]
  },
  {
   "cell_type": "code",
   "execution_count": 31,
   "metadata": {},
   "outputs": [],
   "source": [
    "idx = tokenizer.word_index\n",
    "inverse_map = dict(zip(idx.values(), idx.keys()))"
   ]
  },
  {
   "cell_type": "code",
   "execution_count": 32,
   "metadata": {},
   "outputs": [],
   "source": [
    "\n",
    "def tokens_to_string(tokens):\n",
    "    # Map from tokens back to words.\n",
    "    words = [inverse_map[token] for token in tokens if token != 0]\n",
    "    \n",
    "    # Concatenate all words.\n",
    "    text = \" \".join(words)\n",
    "\n",
    "    return text"
   ]
  },
  {
   "cell_type": "code",
   "execution_count": 33,
   "metadata": {},
   "outputs": [
    {
     "data": {
      "text/plain": [
       "'good lord go say right bat watch minute movie hardcore eraserhead fan watch black white movie little dialogue defense apply simply watch terrible weird black white movie little dialogue movie happen give goth child talent nothing say camera budget let put much offensive imagery screen possible clear start film minute long assume exist shot last second drag minute director love sound voice syndrome refuse cut another shot entire piece footage view moment girl mask start masturbate corpse god open scene film joy know matter time turn tape least minute different corpse pull around twitch rope gang cloak mystery men know time give rarely give movie sit entirety blair witch book shadow albeit happily deserve minute give eraserhead fan let simple mind comparison say film con rent piece amateur trash allow refer tetsuo iron man watchable enjoyable piece incoherent black white weirdness'"
      ]
     },
     "execution_count": 33,
     "metadata": {},
     "output_type": "execute_result"
    }
   ],
   "source": [
    "tokens_to_string(seq[506])"
   ]
  },
  {
   "cell_type": "code",
   "execution_count": 34,
   "metadata": {},
   "outputs": [
    {
     "data": {
      "text/plain": [
       "91671"
      ]
     },
     "execution_count": 34,
     "metadata": {},
     "output_type": "execute_result"
    }
   ],
   "source": [
    "# N.N Model\n",
    "len(tokenizer.word_index) # This are total word in dict\n",
    "#it depends if i want to use entier dict or only few occuring word"
   ]
  },
  {
   "cell_type": "markdown",
   "metadata": {},
   "source": [
    "# Split data to test/ train / dev (disabled for train test split )"
   ]
  },
  {
   "cell_type": "code",
   "execution_count": 35,
   "metadata": {},
   "outputs": [],
   "source": [
    "X= imdb_data_pad #PADDED VERSION OF DATA\n",
    "y= df['sentiment'] # LABELS OF DATA\n",
    "\n",
    "X_train, X_val, y_train, y_val = train_test_split( X, y, test_size=0.30,stratify=y, random_state=42)                #30%\n",
    "#  #4%"
   ]
  },
  {
   "cell_type": "markdown",
   "metadata": {},
   "source": [
    "**Reason for starified split:**\n",
    "https://stats.stackexchange.com/questions/250273/benefits-of-stratified-vs-random-sampling-for-generating-training-data-in-classi"
   ]
  },
  {
   "cell_type": "code",
   "execution_count": 36,
   "metadata": {},
   "outputs": [],
   "source": [
    "#Stratiy on y_train data\n",
    "X_train,X_test,y_train,y_test = train_test_split( X_train, y_train, test_size=0.05,stratify=y_train, random_state=42) "
   ]
  },
  {
   "cell_type": "code",
   "execution_count": 37,
   "metadata": {},
   "outputs": [
    {
     "name": "stdout",
     "output_type": "stream",
     "text": [
      "Train data: 33249    33249\n",
      "Validation data: 15000    15000\n",
      "Test data: 1750    1750\n",
      "<class 'pandas.core.series.Series'>\n"
     ]
    }
   ],
   "source": [
    "print(\"Train data:\",len(X_train),'  ',len(y_train))\n",
    "print(\"Validation data:\",len(X_val),'  ',len(y_val))\n",
    "print(\"Test data:\",len(X_test),'  ',len(y_test))\n",
    "print(type(y_train))\n",
    "\n",
    "X_train = np.asarray(X_train)\n",
    "X_val = np.asarray(X_val)\n",
    "X_test = np.asarray(X_test)\n",
    "\n",
    "y_train = np.asarray(y_train)\n",
    "y_val = np.asarray(y_val)\n",
    "y_test = np.asarray(y_test)"
   ]
  },
  {
   "cell_type": "code",
   "execution_count": 38,
   "metadata": {},
   "outputs": [
    {
     "data": {
      "text/plain": [
       "0.0"
      ]
     },
     "execution_count": 38,
     "metadata": {},
     "output_type": "execute_result"
    }
   ],
   "source": [
    "y_test[155]"
   ]
  },
  {
   "cell_type": "markdown",
   "metadata": {},
   "source": [
    "# CREATING A MODEL\n",
    "* http://fizzylogic.nl/2017/05/08/monitor-progress-of-your-keras-based-neural-network-using-tensorboard/"
   ]
  },
  {
   "cell_type": "code",
   "execution_count": 39,
   "metadata": {},
   "outputs": [
    {
     "data": {
      "text/plain": [
       "\"model = Sequential()\\nembedding_layer = Embedding(VOCAB_SIZE+1, EMBEDDING_DIM, weights=[embedding_matrix], \\n                            mask_zero=True, input_length=INPUT_TEXT_LENGTH, trainable=False)\\nmodel.add(embedding_layer)\\n\\nmodel.add(Bidirectional(LSTM(units=100, dropout=0.2, recurrent_dropout=0.2)))\\nmodel.add(Dense(1, activation='sigmoid'))\\nmodel.compile(loss='binary_crossentropy', optimizer='adam', metrics=['accuracy'])\\n\\n# simple early stopping\\nec = EarlyStopping(monitor='val_loss', mode='min', verbose=1, patience=3)\\nmc = ModelCheckpoint(MODEL_FILEPATH, monitor='val_acc', mode='max', verbose=1, save_best_only=True)\\n#mc = ModelCheckpoint(PROJ_NAME,'_best_model.h5', monitor='val_acc', mode='max', verbose=1, save_best_only=True)\\n\\n\\n\\nprint(model.summary())\""
      ]
     },
     "execution_count": 39,
     "metadata": {},
     "output_type": "execute_result"
    }
   ],
   "source": [
    "\n",
    "\n",
    "# I can also trry single channel convolution network over text\n",
    "\n",
    "'''\n",
    "##  Shared Input Layer feature extractor\n",
    "conv2d = Input - conv kernel size + 1\n",
    "pool = input / pool size\n",
    "\n",
    "# input layer\n",
    "visible = Input(shape=(64,64,1))\n",
    "# first feature extractor\n",
    "conv1 = Conv2D(32, kernel_size=4, activation='relu')(visible)\n",
    "pool1 = MaxPooling2D(pool_size=(2, 2))(conv1)\n",
    "\n",
    "'''\n",
    "\n",
    "    \n",
    "    \n",
    "\n",
    "'''\n",
    "USING Bi-directional with mask-zero to  embedding layer\n",
    "https://stackoverflow.com/questions/47485216/how-does-mask-zero-in-keras-embedding-layer-work\n",
    "\n",
    "I may be needing time-distributed dense layer\n",
    "'''\n",
    "'''\n",
    "\n",
    "num_filters = 128 \n",
    "\n",
    "# This returns a tensor\n",
    "embedding_layer = Embedding(VOCAB_SIZE+1, EMBEDDING_DIM, weights=[embedding_matrix], \n",
    "                            mask_zero=True, input_length=INPUT_TEXT_LENGTH, trainable=False)\n",
    "\n",
    "feature_1 = Conv2D(num_filters, (EMBEDDING_DIM, 2),  activation='relu', padding='same')(x)\n",
    "feature_2 = Conv2D(num_filters, (EMBEDDING_DIM, 3), activation='relu', padding='same')(x)\n",
    "feature_3 = Conv2D(num_filters, (EMBEDDING_DIM, 5), activation='relu', padding='same')(x)\n",
    "\n",
    "# MAX_SEQ (sent i/p) - 2 (bi) + 1,\n",
    "pool_1 = MaxPooling2D((3, 3), strides=(1, 1), padding='same')\n",
    "pool_2 = \n",
    "pool_3 =\n",
    " \n",
    "# a layer instance is callable on a tensor, and returns a tensor\n",
    "x = Dense(64, activation='relu')(inputs)\n",
    "x = Dense(64, activation='relu')(x)\n",
    "predictions = Dense(10, activation='softmax')(x)\n",
    "'''\n",
    "\n",
    "'''model = Sequential()\n",
    "embedding_layer = Embedding(VOCAB_SIZE+1, EMBEDDING_DIM, weights=[embedding_matrix], \n",
    "                            mask_zero=True, input_length=INPUT_TEXT_LENGTH, trainable=False)\n",
    "model.add(embedding_layer)\n",
    "\n",
    "model.add(Bidirectional(LSTM(units=100, dropout=0.2, recurrent_dropout=0.2)))\n",
    "model.add(Dense(1, activation='sigmoid'))\n",
    "model.compile(loss='binary_crossentropy', optimizer='adam', metrics=['accuracy'])\n",
    "\n",
    "# simple early stopping\n",
    "ec = EarlyStopping(monitor='val_loss', mode='min', verbose=1, patience=3)\n",
    "mc = ModelCheckpoint(MODEL_FILEPATH, monitor='val_acc', mode='max', verbose=1, save_best_only=True)\n",
    "#mc = ModelCheckpoint(PROJ_NAME,'_best_model.h5', monitor='val_acc', mode='max', verbose=1, save_best_only=True)\n",
    "\n",
    "\n",
    "\n",
    "print(model.summary())'''"
   ]
  },
  {
   "cell_type": "code",
   "execution_count": 49,
   "metadata": {},
   "outputs": [
    {
     "name": "stdout",
     "output_type": "stream",
     "text": [
      "Wall time: 0 ns\n"
     ]
    }
   ],
   "source": [
    "%%time\n",
    "EMBEDDING_DIM = 100 #or 150\n",
    "\n",
    "from keras.models import Model\n",
    "from keras.layers import Input\n",
    "from keras.layers.convolutional import Conv1D\n",
    "from keras.layers.convolutional import MaxPooling1D\n",
    "from keras.layers.merge import concatenate\n",
    "\n",
    "#CNN model does not support mask , mask_zero=True\n",
    "def get_cnn_multichannel_model():\n",
    "    \n",
    "    inputs = Input(shape=(INPUT_TEXT_LENGTH,))\n",
    "    embedding_layer = Embedding(VOCAB_SIZE+1, EMBEDDING_DIM, weights=[embedding_matrix], \n",
    "                                input_length=INPUT_TEXT_LENGTH, trainable=True)(inputs)\n",
    "    \n",
    "    #channel1\n",
    "    conv1 = Conv1D(filters=120, kernel_size=2, activation='relu',padding='valid')(embedding_layer)\n",
    "    drop1 = Dropout(0.3)(conv1)\n",
    "    pool1 = MaxPooling1D(pool_size=2)(drop1)#GlobalMaxPooling1D() \n",
    "    flat1 = Flatten()(pool1)\n",
    "    #channel2\n",
    "    conv2 = Conv1D(filters=120, kernel_size = 3,  activation='relu', padding='valid')(embedding_layer)\n",
    "    drop2 = Dropout(0.3)(conv2)\n",
    "    pool2 = MaxPooling1D(pool_size=2)(drop2)#GlobalMaxPooling1D()\n",
    "    flat2 = Flatten()(pool2)\n",
    "    #channel3\n",
    "    conv3 = Conv1D(filters=120, kernel_size = 5, activation='relu', padding='valid')(embedding_layer)\n",
    "    drop3 = Dropout(0.3)(conv3)\n",
    "    pool3 = MaxPooling1D(pool_size=2)(drop3)#GlobalMaxPooling1D()\n",
    "    flat3 = Flatten()(pool3)\n",
    "    # set the number of feature maps for this region size to 100\n",
    "    # replace with GlobalMaxPooling1D\n",
    "    #applies dropout once, on the concatenation of the max features (not in each branch before the pooling operation).\n",
    "    #https://stackoverflow.com/questions/43728235/what-is-the-difference-between-keras-maxpooling1d-and-globalmaxpooling1d-functi\n",
    "    concatenated_tensor = concatenate([flat1, flat2, flat3])\n",
    "    dropout1 = Dropout(0.3)(concatenated_tensor)\n",
    "    dense1 = Dense(128, activation='relu')(dropout1)#128\n",
    "    outputs = Dense(1, activation='sigmoid')(dense1)\n",
    "    \n",
    "    model = Model(inputs=[inputs], outputs=outputs)\n",
    "    \n",
    "    model.compile(loss='binary_crossentropy', optimizer='adam', metrics=['accuracy'])\n",
    "    print(model.summary())\n",
    "    \n",
    "\n",
    "    return model\n",
    "    \n"
   ]
  },
  {
   "cell_type": "markdown",
   "metadata": {},
   "source": [
    "# print out model image"
   ]
  },
  {
   "cell_type": "code",
   "execution_count": 50,
   "metadata": {},
   "outputs": [
    {
     "name": "stdout",
     "output_type": "stream",
     "text": [
      "__________________________________________________________________________________________________\n",
      "Layer (type)                    Output Shape         Param #     Connected to                     \n",
      "==================================================================================================\n",
      "input_2 (InputLayer)            (None, 294)          0                                            \n",
      "__________________________________________________________________________________________________\n",
      "embedding_2 (Embedding)         (None, 294, 100)     2000100     input_2[0][0]                    \n",
      "__________________________________________________________________________________________________\n",
      "conv1d_4 (Conv1D)               (None, 293, 120)     24120       embedding_2[0][0]                \n",
      "__________________________________________________________________________________________________\n",
      "conv1d_5 (Conv1D)               (None, 292, 120)     36120       embedding_2[0][0]                \n",
      "__________________________________________________________________________________________________\n",
      "conv1d_6 (Conv1D)               (None, 290, 120)     60120       embedding_2[0][0]                \n",
      "__________________________________________________________________________________________________\n",
      "dropout_2 (Dropout)             (None, 293, 120)     0           conv1d_4[0][0]                   \n",
      "__________________________________________________________________________________________________\n",
      "dropout_3 (Dropout)             (None, 292, 120)     0           conv1d_5[0][0]                   \n",
      "__________________________________________________________________________________________________\n",
      "dropout_4 (Dropout)             (None, 290, 120)     0           conv1d_6[0][0]                   \n",
      "__________________________________________________________________________________________________\n",
      "max_pooling1d_4 (MaxPooling1D)  (None, 146, 120)     0           dropout_2[0][0]                  \n",
      "__________________________________________________________________________________________________\n",
      "max_pooling1d_5 (MaxPooling1D)  (None, 146, 120)     0           dropout_3[0][0]                  \n",
      "__________________________________________________________________________________________________\n",
      "max_pooling1d_6 (MaxPooling1D)  (None, 145, 120)     0           dropout_4[0][0]                  \n",
      "__________________________________________________________________________________________________\n",
      "flatten_4 (Flatten)             (None, 17520)        0           max_pooling1d_4[0][0]            \n",
      "__________________________________________________________________________________________________\n",
      "flatten_5 (Flatten)             (None, 17520)        0           max_pooling1d_5[0][0]            \n",
      "__________________________________________________________________________________________________\n",
      "flatten_6 (Flatten)             (None, 17400)        0           max_pooling1d_6[0][0]            \n",
      "__________________________________________________________________________________________________\n",
      "concatenate_2 (Concatenate)     (None, 52440)        0           flatten_4[0][0]                  \n",
      "                                                                 flatten_5[0][0]                  \n",
      "                                                                 flatten_6[0][0]                  \n",
      "__________________________________________________________________________________________________\n",
      "dropout_5 (Dropout)             (None, 52440)        0           concatenate_2[0][0]              \n",
      "__________________________________________________________________________________________________\n",
      "dense_3 (Dense)                 (None, 128)          6712448     dropout_5[0][0]                  \n",
      "__________________________________________________________________________________________________\n",
      "dense_4 (Dense)                 (None, 1)            129         dense_3[0][0]                    \n",
      "==================================================================================================\n",
      "Total params: 8,833,037\n",
      "Trainable params: 8,833,037\n",
      "Non-trainable params: 0\n",
      "__________________________________________________________________________________________________\n",
      "None\n"
     ]
    }
   ],
   "source": [
    "#during global pool \n",
    "from keras.utils import plot_model\n",
    "import os\n",
    "\n",
    "# define model\n",
    "model =  get_cnn_multichannel_model()\n",
    "\n",
    "os.environ[\"PATH\"] += os.pathsep + 'C:/Program Files (x86)/Graphviz2.38/bin/'# install \n",
    "plot_model(model, to_file=IMAGE_PATH)"
   ]
  },
  {
   "cell_type": "code",
   "execution_count": 46,
   "metadata": {},
   "outputs": [
    {
     "ename": "AttributeError",
     "evalue": "'Model' object has no attribute 'pool1'",
     "output_type": "error",
     "traceback": [
      "\u001b[1;31m---------------------------------------------------------------------------\u001b[0m",
      "\u001b[1;31mAttributeError\u001b[0m                            Traceback (most recent call last)",
      "\u001b[1;32m<ipython-input-46-4de6efce7752>\u001b[0m in \u001b[0;36m<module>\u001b[1;34m\u001b[0m\n\u001b[1;32m----> 1\u001b[1;33m \u001b[0mmodel\u001b[0m\u001b[1;33m.\u001b[0m\u001b[0mpool1\u001b[0m\u001b[1;33m.\u001b[0m\u001b[0mshape\u001b[0m\u001b[1;33m\u001b[0m\u001b[1;33m\u001b[0m\u001b[0m\n\u001b[0m",
      "\u001b[1;31mAttributeError\u001b[0m: 'Model' object has no attribute 'pool1'"
     ]
    }
   ],
   "source": [
    "model.pool1.shape"
   ]
  },
  {
   "cell_type": "raw",
   "metadata": {},
   "source": []
  },
  {
   "cell_type": "markdown",
   "metadata": {},
   "source": [
    "# fitting model with validation data"
   ]
  },
  {
   "cell_type": "code",
   "execution_count": 51,
   "metadata": {},
   "outputs": [
    {
     "name": "stdout",
     "output_type": "stream",
     "text": [
      "Train on 33249 samples, validate on 15000 samples\n",
      "Epoch 1/4\n",
      " - 40s - loss: 0.5113 - acc: 0.7569 - val_loss: 0.2916 - val_acc: 0.8813\n",
      "\n",
      "Epoch 00001: val_acc improved from -inf to 0.88133, saving model to model_tokenizers_weights_and_json/4.1  Glove_pretrained_100dims_20k_CNN_multi-channel_best_model.json\n",
      "Epoch 2/4\n"
     ]
    },
    {
     "name": "stderr",
     "output_type": "stream",
     "text": [
      "C:\\Users\\DBCE\\Anaconda3\\envs\\tf_gpu\\lib\\site-packages\\keras\\callbacks.py:122: UserWarning: Method on_batch_end() is slow compared to the batch update (0.199328). Check your callbacks.\n",
      "  % delta_t_median)\n",
      "C:\\Users\\DBCE\\Anaconda3\\envs\\tf_gpu\\lib\\site-packages\\keras\\callbacks.py:122: UserWarning: Method on_batch_end() is slow compared to the batch update (0.406975). Check your callbacks.\n",
      "  % delta_t_median)\n",
      "C:\\Users\\DBCE\\Anaconda3\\envs\\tf_gpu\\lib\\site-packages\\keras\\callbacks.py:122: UserWarning: Method on_batch_end() is slow compared to the batch update (0.199328). Check your callbacks.\n",
      "  % delta_t_median)\n",
      "C:\\Users\\DBCE\\Anaconda3\\envs\\tf_gpu\\lib\\site-packages\\keras\\callbacks.py:122: UserWarning: Method on_batch_end() is slow compared to the batch update (0.163411). Check your callbacks.\n",
      "  % delta_t_median)\n",
      "C:\\Users\\DBCE\\Anaconda3\\envs\\tf_gpu\\lib\\site-packages\\keras\\callbacks.py:122: UserWarning: Method on_batch_end() is slow compared to the batch update (0.127495). Check your callbacks.\n",
      "  % delta_t_median)\n"
     ]
    },
    {
     "name": "stdout",
     "output_type": "stream",
     "text": [
      " - 40s - loss: 0.2365 - acc: 0.9061 - val_loss: 0.2974 - val_acc: 0.8804\n",
      "\n",
      "Epoch 00002: val_acc did not improve from 0.88133\n",
      "Epoch 3/4\n",
      " - 40s - loss: 0.1451 - acc: 0.9469 - val_loss: 0.2847 - val_acc: 0.8929\n",
      "\n",
      "Epoch 00003: val_acc improved from 0.88133 to 0.89293, saving model to model_tokenizers_weights_and_json/4.1  Glove_pretrained_100dims_20k_CNN_multi-channel_best_model.json\n",
      "Epoch 4/4\n"
     ]
    },
    {
     "name": "stderr",
     "output_type": "stream",
     "text": [
      "C:\\Users\\DBCE\\Anaconda3\\envs\\tf_gpu\\lib\\site-packages\\keras\\callbacks.py:122: UserWarning: Method on_batch_end() is slow compared to the batch update (0.279146). Check your callbacks.\n",
      "  % delta_t_median)\n",
      "C:\\Users\\DBCE\\Anaconda3\\envs\\tf_gpu\\lib\\site-packages\\keras\\callbacks.py:122: UserWarning: Method on_batch_end() is slow compared to the batch update (0.159173). Check your callbacks.\n",
      "  % delta_t_median)\n"
     ]
    },
    {
     "name": "stdout",
     "output_type": "stream",
     "text": [
      " - 41s - loss: 0.0816 - acc: 0.9711 - val_loss: 0.3815 - val_acc: 0.8757\n",
      "\n",
      "Epoch 00004: val_acc did not improve from 0.89293\n",
      "Wall time: 2min 44s\n"
     ]
    }
   ],
   "source": [
    "%%time\n",
    "ec = EarlyStopping(monitor='val_loss', mode='min', verbose=1, patience=3)\n",
    "mc = ModelCheckpoint(MODEL_FILEPATH, monitor='val_acc', mode='max', verbose=1, save_best_only=True)\n",
    "# fit model [batch size =100]                                                   \n",
    "history = model.fit(X_train, y_train , epochs=4 , validation_data=(X_val, y_val),verbose=2, batch_size = 64, callbacks=[tensorboard, ec, mc])\n",
    "# TENSORBOARD\n",
    "# tensorboard --logdir logs/\n",
    "# http://localhost:6006/"
   ]
  },
  {
   "cell_type": "code",
   "execution_count": 53,
   "metadata": {},
   "outputs": [
    {
     "data": {
      "image/png": "[encoded data removed]",
      "text/plain": [
       "<Figure size 432x288 with 1 Axes>"
      ]
     },
     "metadata": {
      "needs_background": "light"
     },
     "output_type": "display_data"
    }
   ],
   "source": [
    "# plot train and validation loss\n",
    "plt.plot(history.history['acc'])\n",
    "plt.plot(history.history['val_acc'])\n",
    "plt.title('model train vs validation acc')\n",
    "plt.ylabel('acc')\n",
    "plt.xlabel('epoch')\n",
    "plt.legend(['train', 'validation'], loc='upper right')\n",
    "plt.show()"
   ]
  },
  {
   "cell_type": "code",
   "execution_count": 54,
   "metadata": {},
   "outputs": [
    {
     "data": {
      "image/png": "[encoded data removed]",
      "text/plain": [
       "<Figure size 432x288 with 1 Axes>"
      ]
     },
     "metadata": {
      "needs_background": "light"
     },
     "output_type": "display_data"
    }
   ],
   "source": [
    "# plot train and validation loss\n",
    "plt.plot(history.history['loss'])\n",
    "plt.plot(history.history['val_loss'])\n",
    "plt.title('model train vs validation loss')\n",
    "plt.ylabel('loss')\n",
    "plt.xlabel('epoch')\n",
    "plt.legend(['train', 'validation'], loc='upper right')\n",
    "plt.show()"
   ]
  },
  {
   "cell_type": "markdown",
   "metadata": {},
   "source": [
    "# Evaluate on test data"
   ]
  },
  {
   "cell_type": "code",
   "execution_count": 55,
   "metadata": {},
   "outputs": [
    {
     "name": "stdout",
     "output_type": "stream",
     "text": [
      "Accuracy: 87.37%\n"
     ]
    }
   ],
   "source": [
    "\n",
    "# Final evaluation of the model\n",
    "\n",
    "scores = model.evaluate(X_test, y_test, verbose=0)\n",
    "print(\"Accuracy: %.2f%%\" % (scores[1]*100))\n"
   ]
  },
  {
   "cell_type": "markdown",
   "metadata": {},
   "source": [
    "# TO DO after training¶"
   ]
  },
  {
   "cell_type": "markdown",
   "metadata": {},
   "source": [
    "# export tokenizer and weights of model for production\n",
    "* If model has performed well."
   ]
  },
  {
   "cell_type": "code",
   "execution_count": 56,
   "metadata": {
    "scrolled": true
   },
   "outputs": [],
   "source": [
    "# saving instace so word can be converted to int tokens\n",
    "with open(TOKENIZER_FILEPATH, 'wb') as handle:\n",
    "    pickle.dump(tokenizer, handle, protocol=pickle.HIGHEST_PROTOCOL)\n"
   ]
  },
  {
   "cell_type": "markdown",
   "metadata": {},
   "source": [
    "# saving keras model n weights"
   ]
  },
  {
   "cell_type": "code",
   "execution_count": 57,
   "metadata": {},
   "outputs": [
    {
     "name": "stdout",
     "output_type": "stream",
     "text": [
      "Saved model to disk\n"
     ]
    }
   ],
   "source": [
    "# serialize model to JSON\n",
    "'''model_json = model.to_json()\n",
    "with open(PROJ_NAME,\"_model.json\", \"w\") as json_file: #MODEL_FILEPATH\n",
    "    json_file.write(model_json)'''\n",
    "    \n",
    "# serialize weights to HDF5\n",
    "model.save_weights(WEIGHT_FILEPATH)\n",
    "print(\"Saved model to disk\")"
   ]
  },
  {
   "cell_type": "code",
   "execution_count": 58,
   "metadata": {},
   "outputs": [],
   "source": [
    "\n",
    "'''\n",
    "Neural networks are stochastic, they can produce different results when the same model is fit on the same data.\n",
    "This is mainly because of the random initial weights and the shuffling of patterns during mini-batch gradient descent. \n",
    "This means that any one scoring of a model is unreliable and we should estimate model skill based on an average of multiple runs.\n",
    "'''\n",
    "with open(TOKENIZER_FILEPATH, 'rb') as handle:\n",
    "    prod_instance_tokenizer = pickle.load(handle)\n"
   ]
  },
  {
   "cell_type": "code",
   "execution_count": 59,
   "metadata": {},
   "outputs": [
    {
     "name": "stdout",
     "output_type": "stream",
     "text": [
      "['this', 'movie', 'really', 'sucks', 'can', 'i', 'get', 'my', 'money', 'back', 'please']\n"
     ]
    },
    {
     "ename": "NameError",
     "evalue": "name 'prod_instance' is not defined",
     "output_type": "error",
     "traceback": [
      "\u001b[1;31m---------------------------------------------------------------------------\u001b[0m",
      "\u001b[1;31mNameError\u001b[0m                                 Traceback (most recent call last)",
      "\u001b[1;32m<ipython-input-59-3add74af447a>\u001b[0m in \u001b[0;36m<module>\u001b[1;34m\u001b[0m\n\u001b[0;32m      3\u001b[0m \u001b[1;33m\u001b[0m\u001b[0m\n\u001b[0;32m      4\u001b[0m \u001b[0mprint\u001b[0m\u001b[1;33m(\u001b[0m\u001b[0mresult\u001b[0m\u001b[1;33m)\u001b[0m\u001b[1;33m\u001b[0m\u001b[1;33m\u001b[0m\u001b[0m\n\u001b[1;32m----> 5\u001b[1;33m \u001b[0mtext_to_int\u001b[0m\u001b[1;33m=\u001b[0m \u001b[0mprod_instance\u001b[0m\u001b[1;33m.\u001b[0m\u001b[0mtexts_to_sequences\u001b[0m\u001b[1;33m(\u001b[0m\u001b[0mresult\u001b[0m\u001b[1;33m)\u001b[0m\u001b[1;33m\u001b[0m\u001b[1;33m\u001b[0m\u001b[0m\n\u001b[0m\u001b[0;32m      6\u001b[0m \u001b[0mprint\u001b[0m\u001b[1;33m(\u001b[0m\u001b[0mtext_to_int\u001b[0m\u001b[1;33m)\u001b[0m\u001b[1;33m\u001b[0m\u001b[1;33m\u001b[0m\u001b[0m\n",
      "\u001b[1;31mNameError\u001b[0m: name 'prod_instance' is not defined"
     ]
    }
   ],
   "source": [
    "from keras.preprocessing.text import Tokenizer,text_to_word_sequence\n",
    "result = text_to_word_sequence(\"This movie really sucks! Can I get my money back please\")\n",
    "\n",
    "print(result)\n",
    "text_to_int= prod_instance.texts_to_sequences(result)\n",
    "print(text_to_int)"
   ]
  },
  {
   "cell_type": "markdown",
   "metadata": {},
   "source": [
    "# Have to try:\n",
    "* include pre trained embedding before\n",
    "* set trainable param**\n",
    "* other architecture\n",
    "* hyperparam settings etc.."
   ]
  },
  {
   "cell_type": "code",
   "execution_count": null,
   "metadata": {},
   "outputs": [],
   "source": [
    "'''\n",
    "'movie ups downs good stuff movie much outweighs bad good movie indeed sometimes dialogue sound light one noticed way \n",
    "set light amateur act good highly original \n",
    "storyline intense atmosphere gore factor high effect do supremely definitely worth watch maybe even must see horror gore fan'\n",
    "\n",
    "#refs\n",
    "# Delete the Keras model with these hyper-parameters from memory.\n",
    "del model\n",
    "    \n",
    "# Clear the Keras session, otherwise it will keep adding new\n",
    "# models to the same TensorFlow graph each time we create\n",
    "# a model with a different set of hyper-parameters.\n",
    "K.clear_session()\n",
    "'''"
   ]
  }
 ],
 "metadata": {
  "kernelspec": {
   "display_name": "Python 3",
   "language": "python",
   "name": "python3"
  },
  "language_info": {
   "codemirror_mode": {
    "name": "ipython",
    "version": 3
   },
   "file_extension": ".py",
   "mimetype": "text/x-python",
   "name": "python",
   "nbconvert_exporter": "python",
   "pygments_lexer": "ipython3",
   "version": "3.7.1"
  }
 },
 "nbformat": 4,
 "nbformat_minor": 2
}
